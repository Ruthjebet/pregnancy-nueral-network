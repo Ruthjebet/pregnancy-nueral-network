{
 "cells": [
  {
   "cell_type": "markdown",
   "id": "fa0d5a11-a597-43c0-b2be-8853dca560ef",
   "metadata": {},
   "source": [
    "1. Import Basic Libraries"
   ]
  },
  {
   "cell_type": "code",
   "execution_count": 1,
   "id": "2e012abc-5fb5-4c79-a2b6-ccf9646c0061",
   "metadata": {
    "execution": {
     "iopub.execute_input": "2023-04-08T18:27:07.127845Z",
     "iopub.status.busy": "2023-04-08T18:27:07.127652Z",
     "iopub.status.idle": "2023-04-08T18:27:07.719444Z",
     "shell.execute_reply": "2023-04-08T18:27:07.718692Z",
     "shell.execute_reply.started": "2023-04-08T18:27:07.127826Z"
    },
    "tags": []
   },
   "outputs": [],
   "source": [
    "import matplotlib.pyplot as plt\n",
    "import numpy as np"
   ]
  },
  {
   "cell_type": "markdown",
   "id": "4e321a0c-7ee1-4188-8ee5-76ec2df85bb3",
   "metadata": {},
   "source": [
    "2. Importing Libraries necessary for classification\n",
    "\n",
    "  Pandas library for handling of data in column and row formart together with retrieving and editing the dataset"
   ]
  },
  {
   "cell_type": "code",
   "execution_count": 2,
   "id": "c179983d-c4db-4e4f-aca1-19e391b6c623",
   "metadata": {
    "execution": {
     "iopub.execute_input": "2023-04-08T18:27:07.721205Z",
     "iopub.status.busy": "2023-04-08T18:27:07.720848Z",
     "iopub.status.idle": "2023-04-08T18:27:08.251623Z",
     "shell.execute_reply": "2023-04-08T18:27:08.250997Z",
     "shell.execute_reply.started": "2023-04-08T18:27:07.721183Z"
    },
    "tags": []
   },
   "outputs": [],
   "source": [
    "import pandas as pd\n",
    "from sklearn import preprocessing\n",
    "\n",
    "# from sklearn.linear_model import Perceptron\n",
    "from sklearn.neural_network import MLPClassifier\n",
    "from sklearn.model_selection import train_test_split\n",
    "\n",
    "from sklearn.preprocessing import LabelEncoder\n",
    "from sklearn.preprocessing import StandardScaler as scaler # for preprocessing\n",
    "from sklearn.metrics import accuracy_score, classification_report,confusion_matrix\n",
    "\n",
    "# from sklearn.svm import SVC\n",
    "from sklearn.svm import LinearSVC"
   ]
  },
  {
   "cell_type": "markdown",
   "id": "7dda97f9-7fa0-454a-9d1a-75544fd9f643",
   "metadata": {},
   "source": [
    "3. Loading the dataset"
   ]
  },
  {
   "cell_type": "code",
   "execution_count": 3,
   "id": "8491f194-d111-49e6-9510-f220ec2c5bc3",
   "metadata": {
    "execution": {
     "iopub.execute_input": "2023-04-08T18:27:08.252836Z",
     "iopub.status.busy": "2023-04-08T18:27:08.252471Z",
     "iopub.status.idle": "2023-04-08T18:27:08.270182Z",
     "shell.execute_reply": "2023-04-08T18:27:08.269660Z",
     "shell.execute_reply.started": "2023-04-08T18:27:08.252814Z"
    },
    "tags": []
   },
   "outputs": [],
   "source": [
    "pregdata = pd.read_csv(\"pone.csv\")"
   ]
  },
  {
   "cell_type": "code",
   "execution_count": 4,
   "id": "b1635750-5efa-4ff4-92b5-d409b2da2aff",
   "metadata": {
    "execution": {
     "iopub.execute_input": "2023-04-08T18:27:08.271241Z",
     "iopub.status.busy": "2023-04-08T18:27:08.270971Z",
     "iopub.status.idle": "2023-04-08T18:27:08.274592Z",
     "shell.execute_reply": "2023-04-08T18:27:08.274017Z",
     "shell.execute_reply.started": "2023-04-08T18:27:08.271221Z"
    },
    "tags": []
   },
   "outputs": [
    {
     "name": "stdout",
     "output_type": "stream",
     "text": [
      "(3322, 47)\n"
     ]
    }
   ],
   "source": [
    "print(pregdata.shape)"
   ]
  },
  {
   "cell_type": "code",
   "execution_count": 5,
   "id": "8f13de72-58e5-4328-accd-9aae09b2ef32",
   "metadata": {
    "execution": {
     "iopub.execute_input": "2023-04-08T18:27:08.275624Z",
     "iopub.status.busy": "2023-04-08T18:27:08.275358Z",
     "iopub.status.idle": "2023-04-08T18:27:08.285726Z",
     "shell.execute_reply": "2023-04-08T18:27:08.284821Z",
     "shell.execute_reply.started": "2023-04-08T18:27:08.275605Z"
    },
    "tags": []
   },
   "outputs": [
    {
     "name": "stdout",
     "output_type": "stream",
     "text": [
      "   ID Number  Maternal Age  Gravida  Para  Number of fetuses  Fetal Weight  \\\n",
      "0          1            24        3   2.0                NaN           2.5   \n",
      "1          2            23        1   NaN                NaN           2.5   \n",
      "2          3            38        5   4.0                NaN           4.0   \n",
      "3          4            30        2   1.0                NaN           3.2   \n",
      "4          5            30        3   2.0                NaN           4.0   \n",
      "\n",
      "  SVD Vaccum Delivery Forceps Cesarean section  ... HIV Tested  \\\n",
      "0   Y               N       N                N  ...          N   \n",
      "1   N               N       N                N  ...          N   \n",
      "2   Y               N       N                N  ...          N   \n",
      "3   Y               N       Y                N  ...          N   \n",
      "4   N               N       N                N  ...          N   \n",
      "\n",
      "  HIV/AIDS status ANC/OPD HIV Reactive On ART Maternal Prophylaxis  \\\n",
      "0        Negative                    N      N                    N   \n",
      "1        Negative                    N      N                    N   \n",
      "2        Negative                    N      N                    N   \n",
      "3        Negative                    N      N                    N   \n",
      "4        Negative                    N      N                    N   \n",
      "\n",
      "  Neonatl Prophylaxis    Age cat Gravidity Parity Cat Fetal weight  \n",
      "0                   N  19-34 yrs       2-4        1-3    25-3.9 kg  \n",
      "1                   N  19-34 yrs         1          0    25-3.9 kg  \n",
      "2                   N       >=35       >=5        >=4       >=4 kg  \n",
      "3                   N  19-34 yrs       2-4        1-3    25-3.9 kg  \n",
      "4                   N  19-34 yrs       2-4        1-3       >=4 kg  \n",
      "\n",
      "[5 rows x 47 columns]\n"
     ]
    }
   ],
   "source": [
    "print(pregdata.head())"
   ]
  },
  {
   "cell_type": "markdown",
   "id": "8b0c2793-9a69-4d9d-a48b-97867dcb8d3c",
   "metadata": {},
   "source": [
    " 4. Preprocessing \n",
    " \n",
    " Did data cleaning and normalizing of the data \n",
    " \n",
    " #protip: It is good to scale your all your data both training and testing data before you use it."
   ]
  },
  {
   "cell_type": "code",
   "execution_count": 6,
   "id": "6dc453b1-ebb7-4c50-8150-e708c1e60e3c",
   "metadata": {
    "execution": {
     "iopub.execute_input": "2023-04-08T18:27:08.287362Z",
     "iopub.status.busy": "2023-04-08T18:27:08.286926Z",
     "iopub.status.idle": "2023-04-08T18:27:08.292266Z",
     "shell.execute_reply": "2023-04-08T18:27:08.291717Z",
     "shell.execute_reply.started": "2023-04-08T18:27:08.287344Z"
    },
    "tags": []
   },
   "outputs": [],
   "source": [
    "pregdata.drop(\"Number of fetuses\", axis=1, inplace=True)"
   ]
  },
  {
   "cell_type": "code",
   "execution_count": 7,
   "id": "3d410b19-b5bb-4e31-93a5-7d557d130dfb",
   "metadata": {
    "execution": {
     "iopub.execute_input": "2023-04-08T18:27:08.294403Z",
     "iopub.status.busy": "2023-04-08T18:27:08.294137Z",
     "iopub.status.idle": "2023-04-08T18:27:08.298565Z",
     "shell.execute_reply": "2023-04-08T18:27:08.298022Z",
     "shell.execute_reply.started": "2023-04-08T18:27:08.294384Z"
    }
   },
   "outputs": [],
   "source": [
    "pregdata.drop(\"ID Number\", axis=1, inplace=True)"
   ]
  },
  {
   "cell_type": "code",
   "execution_count": 8,
   "id": "0a1448b8-bc26-4b1f-b8b3-94bdb952cf4c",
   "metadata": {
    "execution": {
     "iopub.execute_input": "2023-04-08T18:27:08.299400Z",
     "iopub.status.busy": "2023-04-08T18:27:08.299213Z",
     "iopub.status.idle": "2023-04-08T18:27:08.307995Z",
     "shell.execute_reply": "2023-04-08T18:27:08.307466Z",
     "shell.execute_reply.started": "2023-04-08T18:27:08.299384Z"
    },
    "tags": []
   },
   "outputs": [
    {
     "name": "stdout",
     "output_type": "stream",
     "text": [
      "   Maternal Age  Gravida  Para  Fetal Weight SVD Vaccum Delivery Forceps  \\\n",
      "0            24        3   2.0           2.5   Y               N       N   \n",
      "1            23        1   NaN           2.5   N               N       N   \n",
      "2            38        5   4.0           4.0   Y               N       N   \n",
      "3            30        2   1.0           3.2   Y               N       Y   \n",
      "4            30        3   2.0           4.0   N               N       N   \n",
      "\n",
      "  Cesarean section Destructive Delivery Histerectomy  ... HIV Tested  \\\n",
      "0                N                    N            N  ...          N   \n",
      "1                N                    N            N  ...          N   \n",
      "2                N                    N            N  ...          N   \n",
      "3                N                    N            N  ...          N   \n",
      "4                N                    N            N  ...          N   \n",
      "\n",
      "  HIV/AIDS status ANC/OPD HIV Reactive On ART Maternal Prophylaxis  \\\n",
      "0        Negative                    N      N                    N   \n",
      "1        Negative                    N      N                    N   \n",
      "2        Negative                    N      N                    N   \n",
      "3        Negative                    N      N                    N   \n",
      "4        Negative                    N      N                    N   \n",
      "\n",
      "  Neonatl Prophylaxis    Age cat Gravidity Parity Cat Fetal weight  \n",
      "0                   N  19-34 yrs       2-4        1-3    25-3.9 kg  \n",
      "1                   N  19-34 yrs         1          0    25-3.9 kg  \n",
      "2                   N       >=35       >=5        >=4       >=4 kg  \n",
      "3                   N  19-34 yrs       2-4        1-3    25-3.9 kg  \n",
      "4                   N  19-34 yrs       2-4        1-3       >=4 kg  \n",
      "\n",
      "[5 rows x 45 columns]\n"
     ]
    }
   ],
   "source": [
    "print(pregdata.head())"
   ]
  },
  {
   "cell_type": "code",
   "execution_count": 9,
   "id": "b7ce74d9-be8c-4ffe-93a7-2dd57b766637",
   "metadata": {
    "execution": {
     "iopub.execute_input": "2023-04-08T18:27:08.308864Z",
     "iopub.status.busy": "2023-04-08T18:27:08.308674Z",
     "iopub.status.idle": "2023-04-08T18:27:08.358987Z",
     "shell.execute_reply": "2023-04-08T18:27:08.358397Z",
     "shell.execute_reply.started": "2023-04-08T18:27:08.308847Z"
    },
    "tags": []
   },
   "outputs": [],
   "source": [
    "pregdata = pregdata.applymap(lambda x: 1 if x == 'Y' else 0 if x == 'N' else x)"
   ]
  },
  {
   "cell_type": "code",
   "execution_count": 10,
   "id": "20ec6fda-9eb0-4642-b86a-0f29c0d6baaa",
   "metadata": {
    "execution": {
     "iopub.execute_input": "2023-04-08T18:27:08.360267Z",
     "iopub.status.busy": "2023-04-08T18:27:08.359801Z",
     "iopub.status.idle": "2023-04-08T18:27:08.364070Z",
     "shell.execute_reply": "2023-04-08T18:27:08.363551Z",
     "shell.execute_reply.started": "2023-04-08T18:27:08.360247Z"
    },
    "tags": []
   },
   "outputs": [],
   "source": [
    "pregdata[\"Para\"] = pregdata[\"Para\"].fillna(\"0\")"
   ]
  },
  {
   "cell_type": "code",
   "execution_count": 11,
   "id": "f71b79d4-2d45-4702-b86d-b0b8358172f8",
   "metadata": {
    "execution": {
     "iopub.execute_input": "2023-04-08T18:27:08.365281Z",
     "iopub.status.busy": "2023-04-08T18:27:08.364978Z",
     "iopub.status.idle": "2023-04-08T18:27:08.378460Z",
     "shell.execute_reply": "2023-04-08T18:27:08.377893Z",
     "shell.execute_reply.started": "2023-04-08T18:27:08.365264Z"
    },
    "tags": []
   },
   "outputs": [
    {
     "name": "stdout",
     "output_type": "stream",
     "text": [
      "      Maternal Age  Gravida Para  Fetal Weight  SVD  Vaccum Delivery  Forceps  \\\n",
      "0               24        3  2.0           2.5    1                0        0   \n",
      "1               23        1    0           2.5    0                0        0   \n",
      "2               38        5  4.0           4.0    1                0        0   \n",
      "3               30        2  1.0           3.2    1                0        1   \n",
      "4               30        3  2.0           4.0    0                0        0   \n",
      "...            ...      ...  ...           ...  ...              ...      ...   \n",
      "3317            23        1    0           0.0    0                1        0   \n",
      "3318            20        1    0           2.8    0                1        1   \n",
      "3319            28        3  1.0           2.8    0                1        0   \n",
      "3320            39        7  6.0           0.0    0                1        0   \n",
      "3321            23        1    0           2.9    0                1        0   \n",
      "\n",
      "      Cesarean section  Destructive Delivery  Histerectomy  ...  HIV Tested  \\\n",
      "0                    0                     0             0  ...           0   \n",
      "1                    0                     0             0  ...           0   \n",
      "2                    0                     0             0  ...           0   \n",
      "3                    0                     0             0  ...           0   \n",
      "4                    0                     0             0  ...           0   \n",
      "...                ...                   ...           ...  ...         ...   \n",
      "3317                 0                     0             0  ...           1   \n",
      "3318                 0                     0             0  ...           1   \n",
      "3319                 0                     0             1  ...           1   \n",
      "3320                 0                     0             1  ...           1   \n",
      "3321                 0                     0             0  ...           1   \n",
      "\n",
      "      HIV/AIDS status  ANC/OPD HIV Reactive  On ART  Maternal Prophylaxis  \\\n",
      "0            Negative                     0       0                     0   \n",
      "1            Negative                     0       0                     0   \n",
      "2            Negative                     0       0                     0   \n",
      "3            Negative                     0       0                     0   \n",
      "4            Negative                     0       0                     0   \n",
      "...               ...                   ...     ...                   ...   \n",
      "3317         Negative                     0       0                     0   \n",
      "3318         Negative                     0       0                     0   \n",
      "3319         Negative                     0       0                     0   \n",
      "3320         Negative                     0       0                     0   \n",
      "3321         Negative                     0       0                     0   \n",
      "\n",
      "      Neonatl Prophylaxis    Age cat  Gravidity  Parity Cat  Fetal weight  \n",
      "0                       0  19-34 yrs        2-4         1-3     25-3.9 kg  \n",
      "1                       0  19-34 yrs          1           0     25-3.9 kg  \n",
      "2                       0       >=35        >=5         >=4        >=4 kg  \n",
      "3                       0  19-34 yrs        2-4         1-3     25-3.9 kg  \n",
      "4                       0  19-34 yrs        2-4         1-3        >=4 kg  \n",
      "...                   ...        ...        ...         ...           ...  \n",
      "3317                    0  19-34 yrs          1           0             0  \n",
      "3318                    0  19-34 yrs          1           0     25-3.9 kg  \n",
      "3319                    0  19-34 yrs        2-4         1-3     25-3.9 kg  \n",
      "3320                    0       >=35        >=5         >=4             0  \n",
      "3321                    0  19-34 yrs          1           0     25-3.9 kg  \n",
      "\n",
      "[3322 rows x 45 columns]\n"
     ]
    }
   ],
   "source": [
    "# check if the dataframe is empty\n",
    "if pregdata.empty:\n",
    "    print(\"The dataframe is empty\")\n",
    "else:\n",
    "    # fill all the NaN values in all columns with 0\n",
    "    pregdata.fillna(0, inplace=True)\n",
    "\n",
    "    # print the updated dataframe\n",
    "    print(pregdata)"
   ]
  },
  {
   "cell_type": "code",
   "execution_count": 12,
   "id": "75447737-60ff-45f4-a991-8c4ae674b65d",
   "metadata": {
    "execution": {
     "iopub.execute_input": "2023-04-08T18:27:08.379528Z",
     "iopub.status.busy": "2023-04-08T18:27:08.379147Z",
     "iopub.status.idle": "2023-04-08T18:27:08.386714Z",
     "shell.execute_reply": "2023-04-08T18:27:08.386157Z",
     "shell.execute_reply.started": "2023-04-08T18:27:08.379510Z"
    },
    "tags": []
   },
   "outputs": [
    {
     "name": "stdout",
     "output_type": "stream",
     "text": [
      "   Maternal Age  Gravida Para  Fetal Weight  SVD  Vaccum Delivery  Forceps  \\\n",
      "0            24        3  2.0           2.5    1                0        0   \n",
      "1            23        1    0           2.5    0                0        0   \n",
      "2            38        5  4.0           4.0    1                0        0   \n",
      "3            30        2  1.0           3.2    1                0        1   \n",
      "4            30        3  2.0           4.0    0                0        0   \n",
      "\n",
      "   Cesarean section  Destructive Delivery  Histerectomy  ...  HIV Tested  \\\n",
      "0                 0                     0             0  ...           0   \n",
      "1                 0                     0             0  ...           0   \n",
      "2                 0                     0             0  ...           0   \n",
      "3                 0                     0             0  ...           0   \n",
      "4                 0                     0             0  ...           0   \n",
      "\n",
      "   HIV/AIDS status  ANC/OPD HIV Reactive  On ART  Maternal Prophylaxis  \\\n",
      "0         Negative                     0       0                     0   \n",
      "1         Negative                     0       0                     0   \n",
      "2         Negative                     0       0                     0   \n",
      "3         Negative                     0       0                     0   \n",
      "4         Negative                     0       0                     0   \n",
      "\n",
      "   Neonatl Prophylaxis    Age cat  Gravidity  Parity Cat  Fetal weight  \n",
      "0                    0  19-34 yrs        2-4         1-3     25-3.9 kg  \n",
      "1                    0  19-34 yrs          1           0     25-3.9 kg  \n",
      "2                    0       >=35        >=5         >=4        >=4 kg  \n",
      "3                    0  19-34 yrs        2-4         1-3     25-3.9 kg  \n",
      "4                    0  19-34 yrs        2-4         1-3        >=4 kg  \n",
      "\n",
      "[5 rows x 45 columns]\n"
     ]
    }
   ],
   "source": [
    "print(pregdata.head())"
   ]
  },
  {
   "cell_type": "code",
   "execution_count": 13,
   "id": "4b3935b6-1d43-495c-bc69-1dfc44561e22",
   "metadata": {
    "execution": {
     "iopub.execute_input": "2023-04-08T18:27:08.387586Z",
     "iopub.status.busy": "2023-04-08T18:27:08.387399Z",
     "iopub.status.idle": "2023-04-08T18:27:08.394979Z",
     "shell.execute_reply": "2023-04-08T18:27:08.394447Z",
     "shell.execute_reply.started": "2023-04-08T18:27:08.387570Z"
    },
    "tags": []
   },
   "outputs": [
    {
     "name": "stdout",
     "output_type": "stream",
     "text": [
      "      Maternal Age  Gravida Para  Fetal Weight  SVD  Vaccum Delivery  Forceps  \\\n",
      "3317            23        1    0           0.0    0                1        0   \n",
      "3318            20        1    0           2.8    0                1        1   \n",
      "3319            28        3  1.0           2.8    0                1        0   \n",
      "3320            39        7  6.0           0.0    0                1        0   \n",
      "3321            23        1    0           2.9    0                1        0   \n",
      "\n",
      "      Cesarean section  Destructive Delivery  Histerectomy  ...  HIV Tested  \\\n",
      "3317                 0                     0             0  ...           1   \n",
      "3318                 0                     0             0  ...           1   \n",
      "3319                 0                     0             1  ...           1   \n",
      "3320                 0                     0             1  ...           1   \n",
      "3321                 0                     0             0  ...           1   \n",
      "\n",
      "      HIV/AIDS status  ANC/OPD HIV Reactive  On ART  Maternal Prophylaxis  \\\n",
      "3317         Negative                     0       0                     0   \n",
      "3318         Negative                     0       0                     0   \n",
      "3319         Negative                     0       0                     0   \n",
      "3320         Negative                     0       0                     0   \n",
      "3321         Negative                     0       0                     0   \n",
      "\n",
      "      Neonatl Prophylaxis    Age cat  Gravidity  Parity Cat  Fetal weight  \n",
      "3317                    0  19-34 yrs          1           0             0  \n",
      "3318                    0  19-34 yrs          1           0     25-3.9 kg  \n",
      "3319                    0  19-34 yrs        2-4         1-3     25-3.9 kg  \n",
      "3320                    0       >=35        >=5         >=4             0  \n",
      "3321                    0  19-34 yrs          1           0     25-3.9 kg  \n",
      "\n",
      "[5 rows x 45 columns]\n"
     ]
    }
   ],
   "source": [
    "print(pregdata.tail())"
   ]
  },
  {
   "cell_type": "code",
   "execution_count": 14,
   "id": "099e8c77-941d-474c-982e-5b2682fced3c",
   "metadata": {
    "execution": {
     "iopub.execute_input": "2023-04-08T18:27:08.396047Z",
     "iopub.status.busy": "2023-04-08T18:27:08.395686Z",
     "iopub.status.idle": "2023-04-08T18:27:08.399146Z",
     "shell.execute_reply": "2023-04-08T18:27:08.398635Z",
     "shell.execute_reply.started": "2023-04-08T18:27:08.396029Z"
    },
    "tags": []
   },
   "outputs": [],
   "source": [
    "pregdata[\"Fetal weight\"] = pregdata[\"Fetal weight\"].fillna(\"0\")"
   ]
  },
  {
   "cell_type": "code",
   "execution_count": 15,
   "id": "a4501efe-6e26-4b99-9bdc-f7560b85fcc1",
   "metadata": {
    "execution": {
     "iopub.execute_input": "2023-04-08T18:27:08.400291Z",
     "iopub.status.busy": "2023-04-08T18:27:08.399997Z",
     "iopub.status.idle": "2023-04-08T18:27:08.407458Z",
     "shell.execute_reply": "2023-04-08T18:27:08.406913Z",
     "shell.execute_reply.started": "2023-04-08T18:27:08.400273Z"
    },
    "tags": []
   },
   "outputs": [
    {
     "name": "stdout",
     "output_type": "stream",
     "text": [
      "      Maternal Age  Gravida Para  Fetal Weight  SVD  Vaccum Delivery  Forceps  \\\n",
      "3317            23        1    0           0.0    0                1        0   \n",
      "3318            20        1    0           2.8    0                1        1   \n",
      "3319            28        3  1.0           2.8    0                1        0   \n",
      "3320            39        7  6.0           0.0    0                1        0   \n",
      "3321            23        1    0           2.9    0                1        0   \n",
      "\n",
      "      Cesarean section  Destructive Delivery  Histerectomy  ...  HIV Tested  \\\n",
      "3317                 0                     0             0  ...           1   \n",
      "3318                 0                     0             0  ...           1   \n",
      "3319                 0                     0             1  ...           1   \n",
      "3320                 0                     0             1  ...           1   \n",
      "3321                 0                     0             0  ...           1   \n",
      "\n",
      "      HIV/AIDS status  ANC/OPD HIV Reactive  On ART  Maternal Prophylaxis  \\\n",
      "3317         Negative                     0       0                     0   \n",
      "3318         Negative                     0       0                     0   \n",
      "3319         Negative                     0       0                     0   \n",
      "3320         Negative                     0       0                     0   \n",
      "3321         Negative                     0       0                     0   \n",
      "\n",
      "      Neonatl Prophylaxis    Age cat  Gravidity  Parity Cat  Fetal weight  \n",
      "3317                    0  19-34 yrs          1           0             0  \n",
      "3318                    0  19-34 yrs          1           0     25-3.9 kg  \n",
      "3319                    0  19-34 yrs        2-4         1-3     25-3.9 kg  \n",
      "3320                    0       >=35        >=5         >=4             0  \n",
      "3321                    0  19-34 yrs          1           0     25-3.9 kg  \n",
      "\n",
      "[5 rows x 45 columns]\n"
     ]
    }
   ],
   "source": [
    "print(pregdata.tail())"
   ]
  },
  {
   "cell_type": "code",
   "execution_count": 16,
   "id": "18a1b960-8195-41ab-b889-97bcfbc6f0c8",
   "metadata": {
    "execution": {
     "iopub.execute_input": "2023-04-08T18:27:08.408507Z",
     "iopub.status.busy": "2023-04-08T18:27:08.408315Z",
     "iopub.status.idle": "2023-04-08T18:27:08.412240Z",
     "shell.execute_reply": "2023-04-08T18:27:08.411725Z",
     "shell.execute_reply.started": "2023-04-08T18:27:08.408490Z"
    },
    "tags": []
   },
   "outputs": [],
   "source": [
    "pregdata = pregdata.rename(columns={\"Fetal Weight\": \"Newborn_weight\"})"
   ]
  },
  {
   "cell_type": "code",
   "execution_count": 17,
   "id": "c2aa8884-749e-4fdd-9a92-2e0ce8509e3b",
   "metadata": {
    "execution": {
     "iopub.execute_input": "2023-04-08T18:27:08.413251Z",
     "iopub.status.busy": "2023-04-08T18:27:08.413061Z",
     "iopub.status.idle": "2023-04-08T18:27:08.416424Z",
     "shell.execute_reply": "2023-04-08T18:27:08.415919Z",
     "shell.execute_reply.started": "2023-04-08T18:27:08.413235Z"
    },
    "tags": []
   },
   "outputs": [],
   "source": [
    "pregdata[\"Newborn_weight\"] = pregdata[\"Newborn_weight\"].fillna(\"1.2\")"
   ]
  },
  {
   "cell_type": "code",
   "execution_count": 18,
   "id": "c8b248a5-da31-4561-a413-ead6d6433ab4",
   "metadata": {
    "execution": {
     "iopub.execute_input": "2023-04-08T18:27:08.417250Z",
     "iopub.status.busy": "2023-04-08T18:27:08.417058Z",
     "iopub.status.idle": "2023-04-08T18:27:08.425365Z",
     "shell.execute_reply": "2023-04-08T18:27:08.424829Z",
     "shell.execute_reply.started": "2023-04-08T18:27:08.417233Z"
    },
    "tags": []
   },
   "outputs": [
    {
     "name": "stdout",
     "output_type": "stream",
     "text": [
      "      Maternal Age  Gravida Para  Newborn_weight  SVD  Vaccum Delivery  \\\n",
      "3317            23        1    0             0.0    0                1   \n",
      "3318            20        1    0             2.8    0                1   \n",
      "3319            28        3  1.0             2.8    0                1   \n",
      "3320            39        7  6.0             0.0    0                1   \n",
      "3321            23        1    0             2.9    0                1   \n",
      "\n",
      "      Forceps  Cesarean section  Destructive Delivery  Histerectomy  ...  \\\n",
      "3317        0                 0                     0             0  ...   \n",
      "3318        1                 0                     0             0  ...   \n",
      "3319        0                 0                     0             1  ...   \n",
      "3320        0                 0                     0             1  ...   \n",
      "3321        0                 0                     0             0  ...   \n",
      "\n",
      "      HIV Tested  HIV/AIDS status  ANC/OPD HIV Reactive  On ART  \\\n",
      "3317           1         Negative                     0       0   \n",
      "3318           1         Negative                     0       0   \n",
      "3319           1         Negative                     0       0   \n",
      "3320           1         Negative                     0       0   \n",
      "3321           1         Negative                     0       0   \n",
      "\n",
      "      Maternal Prophylaxis  Neonatl Prophylaxis    Age cat  Gravidity  \\\n",
      "3317                     0                    0  19-34 yrs          1   \n",
      "3318                     0                    0  19-34 yrs          1   \n",
      "3319                     0                    0  19-34 yrs        2-4   \n",
      "3320                     0                    0       >=35        >=5   \n",
      "3321                     0                    0  19-34 yrs          1   \n",
      "\n",
      "      Parity Cat  Fetal weight  \n",
      "3317           0             0  \n",
      "3318           0     25-3.9 kg  \n",
      "3319         1-3     25-3.9 kg  \n",
      "3320         >=4             0  \n",
      "3321           0     25-3.9 kg  \n",
      "\n",
      "[5 rows x 45 columns]\n"
     ]
    }
   ],
   "source": [
    "print(pregdata.tail())"
   ]
  },
  {
   "cell_type": "code",
   "execution_count": 19,
   "id": "f7787655-dbc5-476b-b433-cda6c964168b",
   "metadata": {
    "execution": {
     "iopub.execute_input": "2023-04-08T18:27:08.426185Z",
     "iopub.status.busy": "2023-04-08T18:27:08.425999Z",
     "iopub.status.idle": "2023-04-08T18:27:08.429148Z",
     "shell.execute_reply": "2023-04-08T18:27:08.428648Z",
     "shell.execute_reply.started": "2023-04-08T18:27:08.426169Z"
    }
   },
   "outputs": [],
   "source": [
    "from sklearn.preprocessing import StandardScaler  # for preprocessing\n",
    "scaler = StandardScaler()"
   ]
  },
  {
   "cell_type": "markdown",
   "id": "5fb44fb4-bce0-4345-a053-78b274fc047c",
   "metadata": {},
   "source": [
    "5. Defining the inputs and outputs"
   ]
  },
  {
   "cell_type": "code",
   "execution_count": 20,
   "id": "611d2f6c-df9f-440f-a5d1-61190b30c3a1",
   "metadata": {
    "execution": {
     "iopub.execute_input": "2023-04-08T18:27:08.430029Z",
     "iopub.status.busy": "2023-04-08T18:27:08.429836Z",
     "iopub.status.idle": "2023-04-08T18:27:08.435146Z",
     "shell.execute_reply": "2023-04-08T18:27:08.434624Z",
     "shell.execute_reply.started": "2023-04-08T18:27:08.430013Z"
    },
    "tags": []
   },
   "outputs": [],
   "source": [
    "# Let's tell the dataframe which column we want for the imputs/features.  \n",
    "inputs = pregdata[['Maternal Age','Gravida','Para','Newborn_weight','SVD','Vaccum Delivery','Forceps','Cesarean section','Destructive Delivery','Home delivery','Histerectomy','Eclampsia','Preeclampsia']]\n",
    "\n",
    "# Let's tell the dataframe which column we want for the target/labels/output.  \n",
    "output = pregdata[['Obstetric Complication','Mother Stable','Maternal Death','APH','PPH','PROM','Alive Neonate','Still Birth','Malpresentation','Breech Presentation','Prematurity','Fetal Distress','Neonatal Death','Fetal Anomally']]"
   ]
  },
  {
   "cell_type": "code",
   "execution_count": 21,
   "id": "23dfe1e1-d3b3-469d-bf69-928137185d79",
   "metadata": {
    "execution": {
     "iopub.execute_input": "2023-04-08T18:27:08.436117Z",
     "iopub.status.busy": "2023-04-08T18:27:08.435923Z",
     "iopub.status.idle": "2023-04-08T18:27:08.447258Z",
     "shell.execute_reply": "2023-04-08T18:27:08.446740Z",
     "shell.execute_reply.started": "2023-04-08T18:27:08.436101Z"
    }
   },
   "outputs": [
    {
     "data": {
      "text/html": [
       "<div>\n",
       "<style scoped>\n",
       "    .dataframe tbody tr th:only-of-type {\n",
       "        vertical-align: middle;\n",
       "    }\n",
       "\n",
       "    .dataframe tbody tr th {\n",
       "        vertical-align: top;\n",
       "    }\n",
       "\n",
       "    .dataframe thead th {\n",
       "        text-align: right;\n",
       "    }\n",
       "</style>\n",
       "<table border=\"1\" class=\"dataframe\">\n",
       "  <thead>\n",
       "    <tr style=\"text-align: right;\">\n",
       "      <th></th>\n",
       "      <th>Maternal Age</th>\n",
       "      <th>Gravida</th>\n",
       "      <th>Para</th>\n",
       "      <th>Newborn_weight</th>\n",
       "      <th>SVD</th>\n",
       "      <th>Vaccum Delivery</th>\n",
       "      <th>Forceps</th>\n",
       "      <th>Cesarean section</th>\n",
       "      <th>Destructive Delivery</th>\n",
       "      <th>Home delivery</th>\n",
       "      <th>Histerectomy</th>\n",
       "      <th>Eclampsia</th>\n",
       "      <th>Preeclampsia</th>\n",
       "    </tr>\n",
       "  </thead>\n",
       "  <tbody>\n",
       "    <tr>\n",
       "      <th>0</th>\n",
       "      <td>24</td>\n",
       "      <td>3</td>\n",
       "      <td>2.0</td>\n",
       "      <td>2.5</td>\n",
       "      <td>1</td>\n",
       "      <td>0</td>\n",
       "      <td>0</td>\n",
       "      <td>0</td>\n",
       "      <td>0</td>\n",
       "      <td>0</td>\n",
       "      <td>0</td>\n",
       "      <td>0</td>\n",
       "      <td>0</td>\n",
       "    </tr>\n",
       "    <tr>\n",
       "      <th>1</th>\n",
       "      <td>23</td>\n",
       "      <td>1</td>\n",
       "      <td>0</td>\n",
       "      <td>2.5</td>\n",
       "      <td>0</td>\n",
       "      <td>0</td>\n",
       "      <td>0</td>\n",
       "      <td>0</td>\n",
       "      <td>0</td>\n",
       "      <td>0</td>\n",
       "      <td>0</td>\n",
       "      <td>0</td>\n",
       "      <td>0</td>\n",
       "    </tr>\n",
       "    <tr>\n",
       "      <th>2</th>\n",
       "      <td>38</td>\n",
       "      <td>5</td>\n",
       "      <td>4.0</td>\n",
       "      <td>4.0</td>\n",
       "      <td>1</td>\n",
       "      <td>0</td>\n",
       "      <td>0</td>\n",
       "      <td>0</td>\n",
       "      <td>0</td>\n",
       "      <td>0</td>\n",
       "      <td>0</td>\n",
       "      <td>0</td>\n",
       "      <td>0</td>\n",
       "    </tr>\n",
       "    <tr>\n",
       "      <th>3</th>\n",
       "      <td>30</td>\n",
       "      <td>2</td>\n",
       "      <td>1.0</td>\n",
       "      <td>3.2</td>\n",
       "      <td>1</td>\n",
       "      <td>0</td>\n",
       "      <td>1</td>\n",
       "      <td>0</td>\n",
       "      <td>0</td>\n",
       "      <td>0</td>\n",
       "      <td>0</td>\n",
       "      <td>0</td>\n",
       "      <td>0</td>\n",
       "    </tr>\n",
       "    <tr>\n",
       "      <th>4</th>\n",
       "      <td>30</td>\n",
       "      <td>3</td>\n",
       "      <td>2.0</td>\n",
       "      <td>4.0</td>\n",
       "      <td>0</td>\n",
       "      <td>0</td>\n",
       "      <td>0</td>\n",
       "      <td>0</td>\n",
       "      <td>0</td>\n",
       "      <td>1</td>\n",
       "      <td>0</td>\n",
       "      <td>0</td>\n",
       "      <td>0</td>\n",
       "    </tr>\n",
       "  </tbody>\n",
       "</table>\n",
       "</div>"
      ],
      "text/plain": [
       "   Maternal Age  Gravida Para  Newborn_weight  SVD  Vaccum Delivery  Forceps  \\\n",
       "0            24        3  2.0             2.5    1                0        0   \n",
       "1            23        1    0             2.5    0                0        0   \n",
       "2            38        5  4.0             4.0    1                0        0   \n",
       "3            30        2  1.0             3.2    1                0        1   \n",
       "4            30        3  2.0             4.0    0                0        0   \n",
       "\n",
       "   Cesarean section  Destructive Delivery  Home delivery  Histerectomy  \\\n",
       "0                 0                     0              0             0   \n",
       "1                 0                     0              0             0   \n",
       "2                 0                     0              0             0   \n",
       "3                 0                     0              0             0   \n",
       "4                 0                     0              1             0   \n",
       "\n",
       "   Eclampsia  Preeclampsia  \n",
       "0          0             0  \n",
       "1          0             0  \n",
       "2          0             0  \n",
       "3          0             0  \n",
       "4          0             0  "
      ]
     },
     "execution_count": 21,
     "metadata": {},
     "output_type": "execute_result"
    }
   ],
   "source": [
    "inputs.head()"
   ]
  },
  {
   "cell_type": "markdown",
   "id": "38a62869-e3a0-4111-9972-e037fd9baa5a",
   "metadata": {},
   "source": [
    "6. Splitting the data into training and testing sets\n",
    "\n",
    "80% for training and 20% for testing"
   ]
  },
  {
   "cell_type": "code",
   "execution_count": 22,
   "id": "780b502c-acc9-49c0-a3bb-0c63eba3f3fe",
   "metadata": {
    "execution": {
     "iopub.execute_input": "2023-04-08T18:27:08.450056Z",
     "iopub.status.busy": "2023-04-08T18:27:08.449804Z",
     "iopub.status.idle": "2023-04-08T18:27:08.454505Z",
     "shell.execute_reply": "2023-04-08T18:27:08.453969Z",
     "shell.execute_reply.started": "2023-04-08T18:27:08.450039Z"
    }
   },
   "outputs": [],
   "source": [
    "input_train, input_test, output_train, output_test = train_test_split(inputs, output,test_size=0.2)"
   ]
  },
  {
   "cell_type": "markdown",
   "id": "2ea74d12-5e46-4298-b077-97c1143ba0c1",
   "metadata": {},
   "source": [
    "7. Applying transformations to the Data"
   ]
  },
  {
   "cell_type": "code",
   "execution_count": 23,
   "id": "efbe89ea-50fc-42fd-bfa3-678715f03abe",
   "metadata": {
    "execution": {
     "iopub.execute_input": "2023-04-08T18:27:08.455407Z",
     "iopub.status.busy": "2023-04-08T18:27:08.455211Z",
     "iopub.status.idle": "2023-04-08T18:27:08.462880Z",
     "shell.execute_reply": "2023-04-08T18:27:08.462384Z",
     "shell.execute_reply.started": "2023-04-08T18:27:08.455390Z"
    },
    "tags": []
   },
   "outputs": [
    {
     "data": {
      "text/plain": [
       "StandardScaler()"
      ]
     },
     "execution_count": 23,
     "metadata": {},
     "output_type": "execute_result"
    }
   ],
   "source": [
    "# Fit only to the training data\n",
    "scaler.fit(input_train)"
   ]
  },
  {
   "cell_type": "code",
   "execution_count": 24,
   "id": "a5f9b507-d320-4ae8-bc36-e44522aa521b",
   "metadata": {
    "execution": {
     "iopub.execute_input": "2023-04-08T18:27:08.463782Z",
     "iopub.status.busy": "2023-04-08T18:27:08.463589Z",
     "iopub.status.idle": "2023-04-08T18:27:08.471839Z",
     "shell.execute_reply": "2023-04-08T18:27:08.471329Z",
     "shell.execute_reply.started": "2023-04-08T18:27:08.463766Z"
    }
   },
   "outputs": [],
   "source": [
    "input_train = scaler.transform(input_train)\n",
    "input_test = scaler.transform(input_test)"
   ]
  },
  {
   "cell_type": "code",
   "execution_count": 25,
   "id": "a1a756b7-33cd-4e24-b19e-f6e385327128",
   "metadata": {
    "execution": {
     "iopub.execute_input": "2023-04-08T18:27:08.472668Z",
     "iopub.status.busy": "2023-04-08T18:27:08.472481Z",
     "iopub.status.idle": "2023-04-08T18:27:08.475399Z",
     "shell.execute_reply": "2023-04-08T18:27:08.474888Z",
     "shell.execute_reply.started": "2023-04-08T18:27:08.472652Z"
    }
   },
   "outputs": [],
   "source": [
    "MLP = MLPClassifier(activation='logistic')"
   ]
  },
  {
   "cell_type": "code",
   "execution_count": 26,
   "id": "05bc6be0-2c11-4075-803f-93abd00ac7ff",
   "metadata": {
    "execution": {
     "iopub.execute_input": "2023-04-08T18:27:08.476266Z",
     "iopub.status.busy": "2023-04-08T18:27:08.476076Z",
     "iopub.status.idle": "2023-04-08T18:27:10.795014Z",
     "shell.execute_reply": "2023-04-08T18:27:10.794240Z",
     "shell.execute_reply.started": "2023-04-08T18:27:08.476250Z"
    },
    "tags": []
   },
   "outputs": [
    {
     "name": "stderr",
     "output_type": "stream",
     "text": [
      "/opt/saturncloud/envs/saturn/lib/python3.9/site-packages/sklearn/neural_network/_multilayer_perceptron.py:692: ConvergenceWarning: Stochastic Optimizer: Maximum iterations (200) reached and the optimization hasn't converged yet.\n",
      "  warnings.warn(\n"
     ]
    },
    {
     "data": {
      "text/plain": [
       "MLPClassifier(activation='logistic')"
      ]
     },
     "execution_count": 26,
     "metadata": {},
     "output_type": "execute_result"
    }
   ],
   "source": [
    "MLP.fit(input_train, output_train)"
   ]
  },
  {
   "cell_type": "code",
   "execution_count": 27,
   "id": "df979b62-8b26-4934-a3cd-fd87cff0dfb9",
   "metadata": {
    "execution": {
     "iopub.execute_input": "2023-04-08T18:27:10.796437Z",
     "iopub.status.busy": "2023-04-08T18:27:10.796082Z",
     "iopub.status.idle": "2023-04-08T18:27:10.801850Z",
     "shell.execute_reply": "2023-04-08T18:27:10.801173Z",
     "shell.execute_reply.started": "2023-04-08T18:27:10.796411Z"
    },
    "tags": []
   },
   "outputs": [],
   "source": [
    "prediction=MLP.predict(input_test)"
   ]
  },
  {
   "cell_type": "markdown",
   "id": "ab3777d1-000b-4dff-a8df-a1c018053f61",
   "metadata": {},
   "source": [
    "7. Measuring the perfomance"
   ]
  },
  {
   "cell_type": "code",
   "execution_count": 28,
   "id": "8ce8eea5-2b34-4350-af21-81da121a7979",
   "metadata": {
    "execution": {
     "iopub.execute_input": "2023-04-08T18:27:10.803324Z",
     "iopub.status.busy": "2023-04-08T18:27:10.802842Z",
     "iopub.status.idle": "2023-04-08T18:27:10.810916Z",
     "shell.execute_reply": "2023-04-08T18:27:10.810353Z",
     "shell.execute_reply.started": "2023-04-08T18:27:10.803299Z"
    },
    "tags": []
   },
   "outputs": [
    {
     "data": {
      "text/plain": [
       "0.7579"
      ]
     },
     "execution_count": 28,
     "metadata": {},
     "output_type": "execute_result"
    }
   ],
   "source": [
    "round(MLP.score(input_test, output_test), 4)"
   ]
  },
  {
   "cell_type": "code",
   "execution_count": 29,
   "id": "abdcc481-61d8-49ac-9278-414f63ff4d5f",
   "metadata": {
    "execution": {
     "iopub.execute_input": "2023-04-08T18:27:10.811784Z",
     "iopub.status.busy": "2023-04-08T18:27:10.811594Z",
     "iopub.status.idle": "2023-04-08T18:27:10.816891Z",
     "shell.execute_reply": "2023-04-08T18:27:10.816171Z",
     "shell.execute_reply.started": "2023-04-08T18:27:10.811768Z"
    }
   },
   "outputs": [
    {
     "data": {
      "text/plain": [
       "StandardScaler()"
      ]
     },
     "execution_count": 29,
     "metadata": {},
     "output_type": "execute_result"
    }
   ],
   "source": [
    "scaler.fit(input_train)"
   ]
  },
  {
   "cell_type": "code",
   "execution_count": 30,
   "id": "08c6c231-5238-4d18-b9b7-1ada01c5f864",
   "metadata": {
    "execution": {
     "iopub.execute_input": "2023-04-08T18:27:10.818109Z",
     "iopub.status.busy": "2023-04-08T18:27:10.817740Z",
     "iopub.status.idle": "2023-04-08T18:27:10.832086Z",
     "shell.execute_reply": "2023-04-08T18:27:10.831375Z",
     "shell.execute_reply.started": "2023-04-08T18:27:10.818091Z"
    },
    "tags": []
   },
   "outputs": [
    {
     "name": "stdout",
     "output_type": "stream",
     "text": [
      "              precision    recall  f1-score   support\n",
      "\n",
      "           0       0.85      0.58      0.69       161\n",
      "           1       0.93      0.98      0.95       599\n",
      "           2       0.00      0.00      0.00         3\n",
      "           3       0.00      0.00      0.00         7\n",
      "           4       0.00      0.00      0.00         4\n",
      "           5       0.00      0.00      0.00         2\n",
      "           6       0.91      0.99      0.95       576\n",
      "           7       0.71      0.09      0.16        56\n",
      "           8       0.00      0.00      0.00        25\n",
      "           9       0.00      0.00      0.00        20\n",
      "          10       0.00      0.00      0.00        12\n",
      "          11       0.00      0.00      0.00         5\n",
      "          12       0.00      0.00      0.00         2\n",
      "          13       0.00      0.00      0.00         4\n",
      "\n",
      "   micro avg       0.91      0.85      0.88      1476\n",
      "   macro avg       0.24      0.19      0.20      1476\n",
      "weighted avg       0.85      0.85      0.84      1476\n",
      " samples avg       0.92      0.90      0.90      1476\n",
      "\n"
     ]
    },
    {
     "name": "stderr",
     "output_type": "stream",
     "text": [
      "/opt/saturncloud/envs/saturn/lib/python3.9/site-packages/sklearn/metrics/_classification.py:1318: UndefinedMetricWarning: Precision and F-score are ill-defined and being set to 0.0 in labels with no predicted samples. Use `zero_division` parameter to control this behavior.\n",
      "  _warn_prf(average, modifier, msg_start, len(result))\n"
     ]
    }
   ],
   "source": [
    "print(classification_report(output_test,prediction))"
   ]
  },
  {
   "cell_type": "code",
   "execution_count": null,
   "id": "eb934670-ad97-4593-965e-53d4cbc13889",
   "metadata": {},
   "outputs": [],
   "source": []
  },
  {
   "cell_type": "code",
   "execution_count": null,
   "id": "ecd0329f-db41-481b-b9fb-13a2e767582e",
   "metadata": {},
   "outputs": [],
   "source": []
  }
 ],
 "metadata": {
  "kernelspec": {
   "display_name": "saturn (Python 3)",
   "language": "python",
   "name": "python3"
  },
  "language_info": {
   "codemirror_mode": {
    "name": "ipython",
    "version": 3
   },
   "file_extension": ".py",
   "mimetype": "text/x-python",
   "name": "python",
   "nbconvert_exporter": "python",
   "pygments_lexer": "ipython3",
   "version": "3.9.15"
  }
 },
 "nbformat": 4,
 "nbformat_minor": 5
}
