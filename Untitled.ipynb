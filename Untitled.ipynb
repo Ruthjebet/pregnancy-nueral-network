{
 "cells": [
  {
   "cell_type": "markdown",
   "id": "fa0d5a11-a597-43c0-b2be-8853dca560ef",
   "metadata": {},
   "source": [
    "1. Import Basic Libraries"
   ]
  },
  {
   "cell_type": "code",
   "execution_count": 1,
   "id": "2e012abc-5fb5-4c79-a2b6-ccf9646c0061",
   "metadata": {
    "execution": {
     "iopub.execute_input": "2023-04-03T08:05:18.689465Z",
     "iopub.status.busy": "2023-04-03T08:05:18.689269Z",
     "iopub.status.idle": "2023-04-03T08:05:19.947743Z",
     "shell.execute_reply": "2023-04-03T08:05:19.947150Z",
     "shell.execute_reply.started": "2023-04-03T08:05:18.689445Z"
    },
    "tags": []
   },
   "outputs": [],
   "source": [
    "import matplotlib.pyplot as plt\n",
    "import numpy as np"
   ]
  },
  {
   "cell_type": "markdown",
   "id": "4e321a0c-7ee1-4188-8ee5-76ec2df85bb3",
   "metadata": {},
   "source": [
    "2. Importing Libraries necessary for classification\n",
    "\n",
    "  Pandas library for handling of data in column and row formart together with retrieving and editing the dataset"
   ]
  },
  {
   "cell_type": "code",
   "execution_count": 2,
   "id": "c179983d-c4db-4e4f-aca1-19e391b6c623",
   "metadata": {
    "execution": {
     "iopub.execute_input": "2023-04-03T08:05:19.949516Z",
     "iopub.status.busy": "2023-04-03T08:05:19.949168Z",
     "iopub.status.idle": "2023-04-03T08:05:21.901202Z",
     "shell.execute_reply": "2023-04-03T08:05:21.900588Z",
     "shell.execute_reply.started": "2023-04-03T08:05:19.949495Z"
    },
    "tags": []
   },
   "outputs": [],
   "source": [
    "import pandas as pd\n",
    "from sklearn import preprocessing\n",
    "\n",
    "# from sklearn.linear_model import Perceptron\n",
    "from sklearn.neural_network import MLPClassifier\n",
    "from sklearn.model_selection import train_test_split\n",
    "\n",
    "from sklearn.preprocessing import StandardScaler as scaler # for preprocessing\n",
    "from sklearn.metrics import accuracy_score, classification_report,confusion_matrix\n",
    "\n",
    "# from sklearn.svm import SVC\n",
    "from sklearn.svm import LinearSVC"
   ]
  },
  {
   "cell_type": "markdown",
   "id": "7dda97f9-7fa0-454a-9d1a-75544fd9f643",
   "metadata": {},
   "source": [
    "3. Loading the dataset"
   ]
  },
  {
   "cell_type": "code",
   "execution_count": 3,
   "id": "8491f194-d111-49e6-9510-f220ec2c5bc3",
   "metadata": {
    "execution": {
     "iopub.execute_input": "2023-04-03T08:05:21.902461Z",
     "iopub.status.busy": "2023-04-03T08:05:21.902055Z",
     "iopub.status.idle": "2023-04-03T08:05:21.920789Z",
     "shell.execute_reply": "2023-04-03T08:05:21.920213Z",
     "shell.execute_reply.started": "2023-04-03T08:05:21.902440Z"
    },
    "tags": []
   },
   "outputs": [],
   "source": [
    "pregdata = pd.read_csv(\"pone.csv\")"
   ]
  },
  {
   "cell_type": "code",
   "execution_count": 4,
   "id": "b1635750-5efa-4ff4-92b5-d409b2da2aff",
   "metadata": {
    "execution": {
     "iopub.execute_input": "2023-04-03T08:05:21.921855Z",
     "iopub.status.busy": "2023-04-03T08:05:21.921635Z",
     "iopub.status.idle": "2023-04-03T08:05:21.925338Z",
     "shell.execute_reply": "2023-04-03T08:05:21.924802Z",
     "shell.execute_reply.started": "2023-04-03T08:05:21.921836Z"
    },
    "tags": []
   },
   "outputs": [
    {
     "name": "stdout",
     "output_type": "stream",
     "text": [
      "(3322, 47)\n"
     ]
    }
   ],
   "source": [
    "print(pregdata.shape)"
   ]
  },
  {
   "cell_type": "code",
   "execution_count": 5,
   "id": "8f13de72-58e5-4328-accd-9aae09b2ef32",
   "metadata": {
    "execution": {
     "iopub.execute_input": "2023-04-03T08:05:21.926411Z",
     "iopub.status.busy": "2023-04-03T08:05:21.926219Z",
     "iopub.status.idle": "2023-04-03T08:05:21.937646Z",
     "shell.execute_reply": "2023-04-03T08:05:21.937103Z",
     "shell.execute_reply.started": "2023-04-03T08:05:21.926394Z"
    },
    "tags": []
   },
   "outputs": [
    {
     "name": "stdout",
     "output_type": "stream",
     "text": [
      "   ID Number  Maternal Age  Gravida  Para  Number of fetuses  Fetal Weight  \\\n",
      "0          1            24        3   2.0                NaN           2.5   \n",
      "1          2            23        1   NaN                NaN           2.5   \n",
      "2          3            38        5   4.0                NaN           4.0   \n",
      "3          4            30        2   1.0                NaN           3.2   \n",
      "4          5            30        3   2.0                NaN           4.0   \n",
      "\n",
      "  SVD Vaccum Delivery Forceps Cesarean section  ... HIV Tested  \\\n",
      "0   Y               N       N                N  ...          N   \n",
      "1   N               N       N                N  ...          N   \n",
      "2   Y               N       N                N  ...          N   \n",
      "3   Y               N       Y                N  ...          N   \n",
      "4   N               N       N                N  ...          N   \n",
      "\n",
      "  HIV/AIDS status ANC/OPD HIV Reactive On ART Maternal Prophylaxis  \\\n",
      "0        Negative                    N      N                    N   \n",
      "1        Negative                    N      N                    N   \n",
      "2        Negative                    N      N                    N   \n",
      "3        Negative                    N      N                    N   \n",
      "4        Negative                    N      N                    N   \n",
      "\n",
      "  Neonatl Prophylaxis    Age cat Gravidity Parity Cat Fetal weight  \n",
      "0                   N  19-34 yrs       2-4        1-3    25-3.9 kg  \n",
      "1                   N  19-34 yrs         1          0    25-3.9 kg  \n",
      "2                   N       >=35       >=5        >=4       >=4 kg  \n",
      "3                   N  19-34 yrs       2-4        1-3    25-3.9 kg  \n",
      "4                   N  19-34 yrs       2-4        1-3       >=4 kg  \n",
      "\n",
      "[5 rows x 47 columns]\n"
     ]
    }
   ],
   "source": [
    "print(pregdata.head())"
   ]
  },
  {
   "cell_type": "markdown",
   "id": "8b0c2793-9a69-4d9d-a48b-97867dcb8d3c",
   "metadata": {},
   "source": [
    " 4. Preprocessing \n",
    " \n",
    " Did data cleaning and normalizing of the data \n",
    " \n",
    " #protip: It is good to scale your all your data both training and testing data before you use it."
   ]
  },
  {
   "cell_type": "code",
   "execution_count": 6,
   "id": "6dc453b1-ebb7-4c50-8150-e708c1e60e3c",
   "metadata": {
    "execution": {
     "iopub.execute_input": "2023-04-03T08:05:21.938680Z",
     "iopub.status.busy": "2023-04-03T08:05:21.938406Z",
     "iopub.status.idle": "2023-04-03T08:05:21.942873Z",
     "shell.execute_reply": "2023-04-03T08:05:21.942353Z",
     "shell.execute_reply.started": "2023-04-03T08:05:21.938661Z"
    },
    "tags": []
   },
   "outputs": [],
   "source": [
    "pregdata.drop(\"Number of fetuses\", axis=1, inplace=True)"
   ]
  },
  {
   "cell_type": "code",
   "execution_count": 7,
   "id": "3d410b19-b5bb-4e31-93a5-7d557d130dfb",
   "metadata": {
    "execution": {
     "iopub.execute_input": "2023-04-03T08:05:21.945052Z",
     "iopub.status.busy": "2023-04-03T08:05:21.944781Z",
     "iopub.status.idle": "2023-04-03T08:05:21.949119Z",
     "shell.execute_reply": "2023-04-03T08:05:21.948618Z",
     "shell.execute_reply.started": "2023-04-03T08:05:21.945035Z"
    }
   },
   "outputs": [],
   "source": [
    "pregdata.drop(\"ID Number\", axis=1, inplace=True)"
   ]
  },
  {
   "cell_type": "code",
   "execution_count": 8,
   "id": "0a1448b8-bc26-4b1f-b8b3-94bdb952cf4c",
   "metadata": {
    "execution": {
     "iopub.execute_input": "2023-04-03T08:05:21.949974Z",
     "iopub.status.busy": "2023-04-03T08:05:21.949789Z",
     "iopub.status.idle": "2023-04-03T08:05:21.958495Z",
     "shell.execute_reply": "2023-04-03T08:05:21.957965Z",
     "shell.execute_reply.started": "2023-04-03T08:05:21.949958Z"
    },
    "tags": []
   },
   "outputs": [
    {
     "name": "stdout",
     "output_type": "stream",
     "text": [
      "   Maternal Age  Gravida  Para  Fetal Weight SVD Vaccum Delivery Forceps  \\\n",
      "0            24        3   2.0           2.5   Y               N       N   \n",
      "1            23        1   NaN           2.5   N               N       N   \n",
      "2            38        5   4.0           4.0   Y               N       N   \n",
      "3            30        2   1.0           3.2   Y               N       Y   \n",
      "4            30        3   2.0           4.0   N               N       N   \n",
      "\n",
      "  Cesarean section Destructive Delivery Histerectomy  ... HIV Tested  \\\n",
      "0                N                    N            N  ...          N   \n",
      "1                N                    N            N  ...          N   \n",
      "2                N                    N            N  ...          N   \n",
      "3                N                    N            N  ...          N   \n",
      "4                N                    N            N  ...          N   \n",
      "\n",
      "  HIV/AIDS status ANC/OPD HIV Reactive On ART Maternal Prophylaxis  \\\n",
      "0        Negative                    N      N                    N   \n",
      "1        Negative                    N      N                    N   \n",
      "2        Negative                    N      N                    N   \n",
      "3        Negative                    N      N                    N   \n",
      "4        Negative                    N      N                    N   \n",
      "\n",
      "  Neonatl Prophylaxis    Age cat Gravidity Parity Cat Fetal weight  \n",
      "0                   N  19-34 yrs       2-4        1-3    25-3.9 kg  \n",
      "1                   N  19-34 yrs         1          0    25-3.9 kg  \n",
      "2                   N       >=35       >=5        >=4       >=4 kg  \n",
      "3                   N  19-34 yrs       2-4        1-3    25-3.9 kg  \n",
      "4                   N  19-34 yrs       2-4        1-3       >=4 kg  \n",
      "\n",
      "[5 rows x 45 columns]\n"
     ]
    }
   ],
   "source": [
    "print(pregdata.head())"
   ]
  },
  {
   "cell_type": "code",
   "execution_count": 9,
   "id": "b7ce74d9-be8c-4ffe-93a7-2dd57b766637",
   "metadata": {
    "execution": {
     "iopub.execute_input": "2023-04-03T08:05:21.959457Z",
     "iopub.status.busy": "2023-04-03T08:05:21.959180Z",
     "iopub.status.idle": "2023-04-03T08:05:21.993562Z",
     "shell.execute_reply": "2023-04-03T08:05:21.993018Z",
     "shell.execute_reply.started": "2023-04-03T08:05:21.959437Z"
    },
    "tags": []
   },
   "outputs": [],
   "source": [
    "pregdata = pregdata.applymap(lambda x: True if x == 'Y' else False if x == 'N' else x)"
   ]
  },
  {
   "cell_type": "code",
   "execution_count": 10,
   "id": "20ec6fda-9eb0-4642-b86a-0f29c0d6baaa",
   "metadata": {
    "execution": {
     "iopub.execute_input": "2023-04-03T08:05:21.994723Z",
     "iopub.status.busy": "2023-04-03T08:05:21.994290Z",
     "iopub.status.idle": "2023-04-03T08:05:21.998291Z",
     "shell.execute_reply": "2023-04-03T08:05:21.997766Z",
     "shell.execute_reply.started": "2023-04-03T08:05:21.994706Z"
    },
    "tags": []
   },
   "outputs": [],
   "source": [
    "pregdata[\"Para\"] = pregdata[\"Para\"].fillna(\"0\")"
   ]
  },
  {
   "cell_type": "code",
   "execution_count": 11,
   "id": "75447737-60ff-45f4-a991-8c4ae674b65d",
   "metadata": {
    "execution": {
     "iopub.execute_input": "2023-04-03T08:05:21.999413Z",
     "iopub.status.busy": "2023-04-03T08:05:21.999116Z",
     "iopub.status.idle": "2023-04-03T08:05:22.007866Z",
     "shell.execute_reply": "2023-04-03T08:05:22.007348Z",
     "shell.execute_reply.started": "2023-04-03T08:05:21.999396Z"
    },
    "tags": []
   },
   "outputs": [
    {
     "name": "stdout",
     "output_type": "stream",
     "text": [
      "   Maternal Age  Gravida Para  Fetal Weight    SVD  Vaccum Delivery  Forceps  \\\n",
      "0            24        3  2.0           2.5   True            False    False   \n",
      "1            23        1    0           2.5  False            False    False   \n",
      "2            38        5  4.0           4.0   True            False    False   \n",
      "3            30        2  1.0           3.2   True            False     True   \n",
      "4            30        3  2.0           4.0  False            False    False   \n",
      "\n",
      "   Cesarean section  Destructive Delivery  Histerectomy  ...  HIV Tested  \\\n",
      "0             False                 False         False  ...       False   \n",
      "1             False                 False         False  ...       False   \n",
      "2             False                 False         False  ...       False   \n",
      "3             False                 False         False  ...       False   \n",
      "4             False                 False         False  ...       False   \n",
      "\n",
      "   HIV/AIDS status  ANC/OPD HIV Reactive  On ART  Maternal Prophylaxis  \\\n",
      "0         Negative                 False   False                 False   \n",
      "1         Negative                 False   False                 False   \n",
      "2         Negative                 False   False                 False   \n",
      "3         Negative                 False   False                 False   \n",
      "4         Negative                 False   False                 False   \n",
      "\n",
      "   Neonatl Prophylaxis    Age cat  Gravidity  Parity Cat  Fetal weight  \n",
      "0                False  19-34 yrs        2-4         1-3     25-3.9 kg  \n",
      "1                False  19-34 yrs          1           0     25-3.9 kg  \n",
      "2                False       >=35        >=5         >=4        >=4 kg  \n",
      "3                False  19-34 yrs        2-4         1-3     25-3.9 kg  \n",
      "4                False  19-34 yrs        2-4         1-3        >=4 kg  \n",
      "\n",
      "[5 rows x 45 columns]\n"
     ]
    }
   ],
   "source": [
    "print(pregdata.head())"
   ]
  },
  {
   "cell_type": "code",
   "execution_count": 12,
   "id": "4b3935b6-1d43-495c-bc69-1dfc44561e22",
   "metadata": {
    "execution": {
     "iopub.execute_input": "2023-04-03T08:05:22.008891Z",
     "iopub.status.busy": "2023-04-03T08:05:22.008538Z",
     "iopub.status.idle": "2023-04-03T08:05:22.017645Z",
     "shell.execute_reply": "2023-04-03T08:05:22.017125Z",
     "shell.execute_reply.started": "2023-04-03T08:05:22.008873Z"
    },
    "tags": []
   },
   "outputs": [
    {
     "name": "stdout",
     "output_type": "stream",
     "text": [
      "      Maternal Age  Gravida Para  Fetal Weight    SVD  Vaccum Delivery  \\\n",
      "3317            23        1    0           NaN  False             True   \n",
      "3318            20        1    0           2.8  False             True   \n",
      "3319            28        3  1.0           2.8  False             True   \n",
      "3320            39        7  6.0           NaN  False             True   \n",
      "3321            23        1    0           2.9  False             True   \n",
      "\n",
      "      Forceps  Cesarean section  Destructive Delivery  Histerectomy  ...  \\\n",
      "3317    False             False                 False         False  ...   \n",
      "3318     True             False                 False         False  ...   \n",
      "3319    False             False                 False          True  ...   \n",
      "3320    False             False                 False          True  ...   \n",
      "3321    False             False                 False         False  ...   \n",
      "\n",
      "      HIV Tested  HIV/AIDS status  ANC/OPD HIV Reactive  On ART  \\\n",
      "3317        True         Negative                 False   False   \n",
      "3318        True         Negative                 False   False   \n",
      "3319        True         Negative                 False   False   \n",
      "3320        True         Negative                 False   False   \n",
      "3321        True         Negative                 False   False   \n",
      "\n",
      "      Maternal Prophylaxis  Neonatl Prophylaxis    Age cat  Gravidity  \\\n",
      "3317                 False                False  19-34 yrs          1   \n",
      "3318                 False                False  19-34 yrs          1   \n",
      "3319                 False                False  19-34 yrs        2-4   \n",
      "3320                 False                False       >=35        >=5   \n",
      "3321                 False                False  19-34 yrs          1   \n",
      "\n",
      "      Parity Cat  Fetal weight  \n",
      "3317           0           NaN  \n",
      "3318           0     25-3.9 kg  \n",
      "3319         1-3     25-3.9 kg  \n",
      "3320         >=4           NaN  \n",
      "3321           0     25-3.9 kg  \n",
      "\n",
      "[5 rows x 45 columns]\n"
     ]
    }
   ],
   "source": [
    "print(pregdata.tail())"
   ]
  },
  {
   "cell_type": "code",
   "execution_count": 13,
   "id": "099e8c77-941d-474c-982e-5b2682fced3c",
   "metadata": {
    "execution": {
     "iopub.execute_input": "2023-04-03T08:05:22.018813Z",
     "iopub.status.busy": "2023-04-03T08:05:22.018370Z",
     "iopub.status.idle": "2023-04-03T08:05:22.022158Z",
     "shell.execute_reply": "2023-04-03T08:05:22.021613Z",
     "shell.execute_reply.started": "2023-04-03T08:05:22.018794Z"
    },
    "tags": []
   },
   "outputs": [],
   "source": [
    "pregdata[\"Fetal weight\"] = pregdata[\"Fetal weight\"].fillna(\"0\")"
   ]
  },
  {
   "cell_type": "code",
   "execution_count": 14,
   "id": "a4501efe-6e26-4b99-9bdc-f7560b85fcc1",
   "metadata": {
    "execution": {
     "iopub.execute_input": "2023-04-03T08:05:22.023022Z",
     "iopub.status.busy": "2023-04-03T08:05:22.022835Z",
     "iopub.status.idle": "2023-04-03T08:05:22.031690Z",
     "shell.execute_reply": "2023-04-03T08:05:22.031185Z",
     "shell.execute_reply.started": "2023-04-03T08:05:22.023005Z"
    },
    "tags": []
   },
   "outputs": [
    {
     "name": "stdout",
     "output_type": "stream",
     "text": [
      "      Maternal Age  Gravida Para  Fetal Weight    SVD  Vaccum Delivery  \\\n",
      "3317            23        1    0           NaN  False             True   \n",
      "3318            20        1    0           2.8  False             True   \n",
      "3319            28        3  1.0           2.8  False             True   \n",
      "3320            39        7  6.0           NaN  False             True   \n",
      "3321            23        1    0           2.9  False             True   \n",
      "\n",
      "      Forceps  Cesarean section  Destructive Delivery  Histerectomy  ...  \\\n",
      "3317    False             False                 False         False  ...   \n",
      "3318     True             False                 False         False  ...   \n",
      "3319    False             False                 False          True  ...   \n",
      "3320    False             False                 False          True  ...   \n",
      "3321    False             False                 False         False  ...   \n",
      "\n",
      "      HIV Tested  HIV/AIDS status  ANC/OPD HIV Reactive  On ART  \\\n",
      "3317        True         Negative                 False   False   \n",
      "3318        True         Negative                 False   False   \n",
      "3319        True         Negative                 False   False   \n",
      "3320        True         Negative                 False   False   \n",
      "3321        True         Negative                 False   False   \n",
      "\n",
      "      Maternal Prophylaxis  Neonatl Prophylaxis    Age cat  Gravidity  \\\n",
      "3317                 False                False  19-34 yrs          1   \n",
      "3318                 False                False  19-34 yrs          1   \n",
      "3319                 False                False  19-34 yrs        2-4   \n",
      "3320                 False                False       >=35        >=5   \n",
      "3321                 False                False  19-34 yrs          1   \n",
      "\n",
      "      Parity Cat  Fetal weight  \n",
      "3317           0             0  \n",
      "3318           0     25-3.9 kg  \n",
      "3319         1-3     25-3.9 kg  \n",
      "3320         >=4             0  \n",
      "3321           0     25-3.9 kg  \n",
      "\n",
      "[5 rows x 45 columns]\n"
     ]
    }
   ],
   "source": [
    "print(pregdata.tail())"
   ]
  },
  {
   "cell_type": "code",
   "execution_count": 15,
   "id": "18a1b960-8195-41ab-b889-97bcfbc6f0c8",
   "metadata": {
    "execution": {
     "iopub.execute_input": "2023-04-03T08:05:22.032699Z",
     "iopub.status.busy": "2023-04-03T08:05:22.032509Z",
     "iopub.status.idle": "2023-04-03T08:05:22.036580Z",
     "shell.execute_reply": "2023-04-03T08:05:22.036066Z",
     "shell.execute_reply.started": "2023-04-03T08:05:22.032682Z"
    },
    "tags": []
   },
   "outputs": [],
   "source": [
    "pregdata = pregdata.rename(columns={\"Fetal Weight\": \"Newborn_weight\"})"
   ]
  },
  {
   "cell_type": "code",
   "execution_count": 16,
   "id": "c2aa8884-749e-4fdd-9a92-2e0ce8509e3b",
   "metadata": {
    "execution": {
     "iopub.execute_input": "2023-04-03T08:05:22.037700Z",
     "iopub.status.busy": "2023-04-03T08:05:22.037319Z",
     "iopub.status.idle": "2023-04-03T08:05:22.041215Z",
     "shell.execute_reply": "2023-04-03T08:05:22.040662Z",
     "shell.execute_reply.started": "2023-04-03T08:05:22.037675Z"
    },
    "tags": []
   },
   "outputs": [],
   "source": [
    "pregdata[\"Newborn_weight\"] = pregdata[\"Newborn_weight\"].fillna(\"1.2\")"
   ]
  },
  {
   "cell_type": "code",
   "execution_count": 17,
   "id": "c8b248a5-da31-4561-a413-ead6d6433ab4",
   "metadata": {
    "execution": {
     "iopub.execute_input": "2023-04-03T08:05:22.042245Z",
     "iopub.status.busy": "2023-04-03T08:05:22.041953Z",
     "iopub.status.idle": "2023-04-03T08:05:22.050457Z",
     "shell.execute_reply": "2023-04-03T08:05:22.049915Z",
     "shell.execute_reply.started": "2023-04-03T08:05:22.042220Z"
    },
    "tags": []
   },
   "outputs": [
    {
     "name": "stdout",
     "output_type": "stream",
     "text": [
      "      Maternal Age  Gravida Para Newborn_weight    SVD  Vaccum Delivery  \\\n",
      "3317            23        1    0            1.2  False             True   \n",
      "3318            20        1    0            2.8  False             True   \n",
      "3319            28        3  1.0            2.8  False             True   \n",
      "3320            39        7  6.0            1.2  False             True   \n",
      "3321            23        1    0            2.9  False             True   \n",
      "\n",
      "      Forceps  Cesarean section  Destructive Delivery  Histerectomy  ...  \\\n",
      "3317    False             False                 False         False  ...   \n",
      "3318     True             False                 False         False  ...   \n",
      "3319    False             False                 False          True  ...   \n",
      "3320    False             False                 False          True  ...   \n",
      "3321    False             False                 False         False  ...   \n",
      "\n",
      "      HIV Tested  HIV/AIDS status  ANC/OPD HIV Reactive  On ART  \\\n",
      "3317        True         Negative                 False   False   \n",
      "3318        True         Negative                 False   False   \n",
      "3319        True         Negative                 False   False   \n",
      "3320        True         Negative                 False   False   \n",
      "3321        True         Negative                 False   False   \n",
      "\n",
      "      Maternal Prophylaxis  Neonatl Prophylaxis    Age cat  Gravidity  \\\n",
      "3317                 False                False  19-34 yrs          1   \n",
      "3318                 False                False  19-34 yrs          1   \n",
      "3319                 False                False  19-34 yrs        2-4   \n",
      "3320                 False                False       >=35        >=5   \n",
      "3321                 False                False  19-34 yrs          1   \n",
      "\n",
      "      Parity Cat  Fetal weight  \n",
      "3317           0             0  \n",
      "3318           0     25-3.9 kg  \n",
      "3319         1-3     25-3.9 kg  \n",
      "3320         >=4             0  \n",
      "3321           0     25-3.9 kg  \n",
      "\n",
      "[5 rows x 45 columns]\n"
     ]
    }
   ],
   "source": [
    "print(pregdata.tail())"
   ]
  },
  {
   "cell_type": "code",
   "execution_count": 18,
   "id": "f7787655-dbc5-476b-b433-cda6c964168b",
   "metadata": {
    "execution": {
     "iopub.execute_input": "2023-04-03T08:05:22.051335Z",
     "iopub.status.busy": "2023-04-03T08:05:22.051148Z",
     "iopub.status.idle": "2023-04-03T08:05:22.054059Z",
     "shell.execute_reply": "2023-04-03T08:05:22.053558Z",
     "shell.execute_reply.started": "2023-04-03T08:05:22.051319Z"
    }
   },
   "outputs": [],
   "source": [
    "from sklearn.preprocessing import StandardScaler  # for preprocessing\n",
    "scaler = StandardScaler()"
   ]
  },
  {
   "cell_type": "markdown",
   "id": "5fb44fb4-bce0-4345-a053-78b274fc047c",
   "metadata": {},
   "source": [
    "5. Defining the inputs and outputs"
   ]
  },
  {
   "cell_type": "code",
   "execution_count": 19,
   "id": "611d2f6c-df9f-440f-a5d1-61190b30c3a1",
   "metadata": {
    "execution": {
     "iopub.execute_input": "2023-04-03T08:05:22.054950Z",
     "iopub.status.busy": "2023-04-03T08:05:22.054763Z",
     "iopub.status.idle": "2023-04-03T08:05:22.059517Z",
     "shell.execute_reply": "2023-04-03T08:05:22.058947Z",
     "shell.execute_reply.started": "2023-04-03T08:05:22.054934Z"
    },
    "tags": []
   },
   "outputs": [],
   "source": [
    "# Let's tell the dataframe which column we want for the imputs/features.  \n",
    "inputs = pregdata[['Maternal Age','Gravida','Para','Newborn_weight','SVD','Vaccum Delivery','Forceps','Cesarean section','Destructive Delivery','Home delivery','Histerectomy']]\n",
    "\n",
    "# Let's tell the dataframe which column we want for the target/labels/output.  \n",
    "output = pregdata[['Obstetric Complication','Mother Stable','Maternal Death']]"
   ]
  },
  {
   "cell_type": "code",
   "execution_count": 20,
   "id": "23dfe1e1-d3b3-469d-bf69-928137185d79",
   "metadata": {
    "execution": {
     "iopub.execute_input": "2023-04-03T08:05:22.060508Z",
     "iopub.status.busy": "2023-04-03T08:05:22.060209Z",
     "iopub.status.idle": "2023-04-03T08:05:22.076027Z",
     "shell.execute_reply": "2023-04-03T08:05:22.075537Z",
     "shell.execute_reply.started": "2023-04-03T08:05:22.060490Z"
    }
   },
   "outputs": [
    {
     "data": {
      "text/html": [
       "<div>\n",
       "<style scoped>\n",
       "    .dataframe tbody tr th:only-of-type {\n",
       "        vertical-align: middle;\n",
       "    }\n",
       "\n",
       "    .dataframe tbody tr th {\n",
       "        vertical-align: top;\n",
       "    }\n",
       "\n",
       "    .dataframe thead th {\n",
       "        text-align: right;\n",
       "    }\n",
       "</style>\n",
       "<table border=\"1\" class=\"dataframe\">\n",
       "  <thead>\n",
       "    <tr style=\"text-align: right;\">\n",
       "      <th></th>\n",
       "      <th>Maternal Age</th>\n",
       "      <th>Gravida</th>\n",
       "      <th>Para</th>\n",
       "      <th>Newborn_weight</th>\n",
       "      <th>SVD</th>\n",
       "      <th>Vaccum Delivery</th>\n",
       "      <th>Forceps</th>\n",
       "      <th>Cesarean section</th>\n",
       "      <th>Destructive Delivery</th>\n",
       "      <th>Home delivery</th>\n",
       "      <th>Histerectomy</th>\n",
       "    </tr>\n",
       "  </thead>\n",
       "  <tbody>\n",
       "    <tr>\n",
       "      <th>0</th>\n",
       "      <td>24</td>\n",
       "      <td>3</td>\n",
       "      <td>2.0</td>\n",
       "      <td>2.5</td>\n",
       "      <td>True</td>\n",
       "      <td>False</td>\n",
       "      <td>False</td>\n",
       "      <td>False</td>\n",
       "      <td>False</td>\n",
       "      <td>False</td>\n",
       "      <td>False</td>\n",
       "    </tr>\n",
       "    <tr>\n",
       "      <th>1</th>\n",
       "      <td>23</td>\n",
       "      <td>1</td>\n",
       "      <td>0</td>\n",
       "      <td>2.5</td>\n",
       "      <td>False</td>\n",
       "      <td>False</td>\n",
       "      <td>False</td>\n",
       "      <td>False</td>\n",
       "      <td>False</td>\n",
       "      <td>False</td>\n",
       "      <td>False</td>\n",
       "    </tr>\n",
       "    <tr>\n",
       "      <th>2</th>\n",
       "      <td>38</td>\n",
       "      <td>5</td>\n",
       "      <td>4.0</td>\n",
       "      <td>4.0</td>\n",
       "      <td>True</td>\n",
       "      <td>False</td>\n",
       "      <td>False</td>\n",
       "      <td>False</td>\n",
       "      <td>False</td>\n",
       "      <td>False</td>\n",
       "      <td>False</td>\n",
       "    </tr>\n",
       "    <tr>\n",
       "      <th>3</th>\n",
       "      <td>30</td>\n",
       "      <td>2</td>\n",
       "      <td>1.0</td>\n",
       "      <td>3.2</td>\n",
       "      <td>True</td>\n",
       "      <td>False</td>\n",
       "      <td>True</td>\n",
       "      <td>False</td>\n",
       "      <td>False</td>\n",
       "      <td>False</td>\n",
       "      <td>False</td>\n",
       "    </tr>\n",
       "    <tr>\n",
       "      <th>4</th>\n",
       "      <td>30</td>\n",
       "      <td>3</td>\n",
       "      <td>2.0</td>\n",
       "      <td>4.0</td>\n",
       "      <td>False</td>\n",
       "      <td>False</td>\n",
       "      <td>False</td>\n",
       "      <td>False</td>\n",
       "      <td>False</td>\n",
       "      <td>True</td>\n",
       "      <td>False</td>\n",
       "    </tr>\n",
       "  </tbody>\n",
       "</table>\n",
       "</div>"
      ],
      "text/plain": [
       "   Maternal Age  Gravida Para Newborn_weight    SVD  Vaccum Delivery  Forceps  \\\n",
       "0            24        3  2.0            2.5   True            False    False   \n",
       "1            23        1    0            2.5  False            False    False   \n",
       "2            38        5  4.0            4.0   True            False    False   \n",
       "3            30        2  1.0            3.2   True            False     True   \n",
       "4            30        3  2.0            4.0  False            False    False   \n",
       "\n",
       "   Cesarean section  Destructive Delivery  Home delivery  Histerectomy  \n",
       "0             False                 False          False         False  \n",
       "1             False                 False          False         False  \n",
       "2             False                 False          False         False  \n",
       "3             False                 False          False         False  \n",
       "4             False                 False           True         False  "
      ]
     },
     "execution_count": 20,
     "metadata": {},
     "output_type": "execute_result"
    }
   ],
   "source": [
    "inputs.head()"
   ]
  },
  {
   "cell_type": "markdown",
   "id": "38a62869-e3a0-4111-9972-e037fd9baa5a",
   "metadata": {},
   "source": [
    "6. Splitting the data into training and testing sets\n",
    "\n",
    "80% for training and 20% for testing"
   ]
  },
  {
   "cell_type": "code",
   "execution_count": 21,
   "id": "780b502c-acc9-49c0-a3bb-0c63eba3f3fe",
   "metadata": {
    "execution": {
     "iopub.execute_input": "2023-04-03T08:05:22.076958Z",
     "iopub.status.busy": "2023-04-03T08:05:22.076716Z",
     "iopub.status.idle": "2023-04-03T08:05:22.081447Z",
     "shell.execute_reply": "2023-04-03T08:05:22.080907Z",
     "shell.execute_reply.started": "2023-04-03T08:05:22.076940Z"
    }
   },
   "outputs": [],
   "source": [
    "input_train, input_test, output_train, output_test = train_test_split(inputs, output,test_size=0.2)"
   ]
  },
  {
   "cell_type": "markdown",
   "id": "2ea74d12-5e46-4298-b077-97c1143ba0c1",
   "metadata": {},
   "source": [
    "7. Applying transformations to the Data"
   ]
  },
  {
   "cell_type": "code",
   "execution_count": 22,
   "id": "efbe89ea-50fc-42fd-bfa3-678715f03abe",
   "metadata": {
    "execution": {
     "iopub.execute_input": "2023-04-03T08:05:22.084239Z",
     "iopub.status.busy": "2023-04-03T08:05:22.083999Z",
     "iopub.status.idle": "2023-04-03T08:05:22.095368Z",
     "shell.execute_reply": "2023-04-03T08:05:22.094650Z",
     "shell.execute_reply.started": "2023-04-03T08:05:22.084221Z"
    }
   },
   "outputs": [
    {
     "data": {
      "text/plain": [
       "StandardScaler()"
      ]
     },
     "execution_count": 22,
     "metadata": {},
     "output_type": "execute_result"
    }
   ],
   "source": [
    "# Fit only to the training data\n",
    "scaler.fit(input_train)"
   ]
  },
  {
   "cell_type": "code",
   "execution_count": 23,
   "id": "a5f9b507-d320-4ae8-bc36-e44522aa521b",
   "metadata": {
    "execution": {
     "iopub.execute_input": "2023-04-03T08:05:22.096496Z",
     "iopub.status.busy": "2023-04-03T08:05:22.096126Z",
     "iopub.status.idle": "2023-04-03T08:05:22.104113Z",
     "shell.execute_reply": "2023-04-03T08:05:22.103595Z",
     "shell.execute_reply.started": "2023-04-03T08:05:22.096476Z"
    }
   },
   "outputs": [],
   "source": [
    "input_train = scaler.transform(input_train)\n",
    "input_test = scaler.transform(input_test)"
   ]
  },
  {
   "cell_type": "code",
   "execution_count": 24,
   "id": "a1a756b7-33cd-4e24-b19e-f6e385327128",
   "metadata": {
    "execution": {
     "iopub.execute_input": "2023-04-03T08:05:22.105032Z",
     "iopub.status.busy": "2023-04-03T08:05:22.104794Z",
     "iopub.status.idle": "2023-04-03T08:05:22.108238Z",
     "shell.execute_reply": "2023-04-03T08:05:22.107502Z",
     "shell.execute_reply.started": "2023-04-03T08:05:22.105015Z"
    }
   },
   "outputs": [],
   "source": [
    "MLP = MLPClassifier(activation='logistic')"
   ]
  },
  {
   "cell_type": "code",
   "execution_count": 25,
   "id": "05bc6be0-2c11-4075-803f-93abd00ac7ff",
   "metadata": {
    "execution": {
     "iopub.execute_input": "2023-04-03T08:05:22.109314Z",
     "iopub.status.busy": "2023-04-03T08:05:22.109069Z",
     "iopub.status.idle": "2023-04-03T08:05:23.513005Z",
     "shell.execute_reply": "2023-04-03T08:05:23.512350Z",
     "shell.execute_reply.started": "2023-04-03T08:05:22.109296Z"
    }
   },
   "outputs": [
    {
     "data": {
      "text/plain": [
       "MLPClassifier(activation='logistic')"
      ]
     },
     "execution_count": 25,
     "metadata": {},
     "output_type": "execute_result"
    }
   ],
   "source": [
    "MLP.fit(input_train, output_train)"
   ]
  },
  {
   "cell_type": "code",
   "execution_count": 26,
   "id": "df979b62-8b26-4934-a3cd-fd87cff0dfb9",
   "metadata": {
    "execution": {
     "iopub.execute_input": "2023-04-03T08:05:23.514256Z",
     "iopub.status.busy": "2023-04-03T08:05:23.513925Z",
     "iopub.status.idle": "2023-04-03T08:05:23.518817Z",
     "shell.execute_reply": "2023-04-03T08:05:23.518211Z",
     "shell.execute_reply.started": "2023-04-03T08:05:23.514235Z"
    }
   },
   "outputs": [],
   "source": [
    "prediction=MLP.predict(input_test)"
   ]
  },
  {
   "cell_type": "markdown",
   "id": "ab3777d1-000b-4dff-a8df-a1c018053f61",
   "metadata": {},
   "source": [
    "7. Measuring the perfomance"
   ]
  },
  {
   "cell_type": "code",
   "execution_count": 27,
   "id": "8ce8eea5-2b34-4350-af21-81da121a7979",
   "metadata": {
    "execution": {
     "iopub.execute_input": "2023-04-03T08:05:23.519887Z",
     "iopub.status.busy": "2023-04-03T08:05:23.519622Z",
     "iopub.status.idle": "2023-04-03T08:05:23.527315Z",
     "shell.execute_reply": "2023-04-03T08:05:23.526650Z",
     "shell.execute_reply.started": "2023-04-03T08:05:23.519868Z"
    }
   },
   "outputs": [
    {
     "data": {
      "text/plain": [
       "0.7684"
      ]
     },
     "execution_count": 27,
     "metadata": {},
     "output_type": "execute_result"
    }
   ],
   "source": [
    "round(MLP.score(input_test, output_test), 4)"
   ]
  },
  {
   "cell_type": "code",
   "execution_count": 28,
   "id": "abdcc481-61d8-49ac-9278-414f63ff4d5f",
   "metadata": {
    "execution": {
     "iopub.execute_input": "2023-04-03T08:05:23.528903Z",
     "iopub.status.busy": "2023-04-03T08:05:23.528153Z",
     "iopub.status.idle": "2023-04-03T08:05:23.534200Z",
     "shell.execute_reply": "2023-04-03T08:05:23.533363Z",
     "shell.execute_reply.started": "2023-04-03T08:05:23.528881Z"
    }
   },
   "outputs": [
    {
     "data": {
      "text/plain": [
       "StandardScaler()"
      ]
     },
     "execution_count": 28,
     "metadata": {},
     "output_type": "execute_result"
    }
   ],
   "source": [
    "scaler.fit(input_train)"
   ]
  },
  {
   "cell_type": "code",
   "execution_count": 29,
   "id": "08c6c231-5238-4d18-b9b7-1ada01c5f864",
   "metadata": {
    "execution": {
     "iopub.execute_input": "2023-04-03T08:05:23.535486Z",
     "iopub.status.busy": "2023-04-03T08:05:23.535163Z",
     "iopub.status.idle": "2023-04-03T08:05:23.549849Z",
     "shell.execute_reply": "2023-04-03T08:05:23.549127Z",
     "shell.execute_reply.started": "2023-04-03T08:05:23.535463Z"
    },
    "tags": []
   },
   "outputs": [
    {
     "name": "stdout",
     "output_type": "stream",
     "text": [
      "              precision    recall  f1-score   support\n",
      "\n",
      "           0       0.93      0.56      0.70       187\n",
      "           1       0.91      0.96      0.93       583\n",
      "           2       0.00      0.00      0.00         4\n",
      "\n",
      "   micro avg       0.91      0.86      0.88       774\n",
      "   macro avg       0.61      0.51      0.54       774\n",
      "weighted avg       0.91      0.86      0.87       774\n",
      " samples avg       0.92      0.88      0.89       774\n",
      "\n"
     ]
    },
    {
     "name": "stderr",
     "output_type": "stream",
     "text": [
      "/opt/saturncloud/envs/saturn/lib/python3.9/site-packages/sklearn/metrics/_classification.py:1318: UndefinedMetricWarning: Precision and F-score are ill-defined and being set to 0.0 in labels with no predicted samples. Use `zero_division` parameter to control this behavior.\n",
      "  _warn_prf(average, modifier, msg_start, len(result))\n",
      "/opt/saturncloud/envs/saturn/lib/python3.9/site-packages/sklearn/metrics/_classification.py:1318: UndefinedMetricWarning: Recall and F-score are ill-defined and being set to 0.0 in samples with no true labels. Use `zero_division` parameter to control this behavior.\n",
      "  _warn_prf(average, modifier, msg_start, len(result))\n"
     ]
    }
   ],
   "source": [
    "print(classification_report(output_test,prediction))"
   ]
  },
  {
   "cell_type": "code",
   "execution_count": null,
   "id": "eb934670-ad97-4593-965e-53d4cbc13889",
   "metadata": {},
   "outputs": [],
   "source": []
  }
 ],
 "metadata": {
  "kernelspec": {
   "display_name": "saturn (Python 3)",
   "language": "python",
   "name": "python3"
  },
  "language_info": {
   "codemirror_mode": {
    "name": "ipython",
    "version": 3
   },
   "file_extension": ".py",
   "mimetype": "text/x-python",
   "name": "python",
   "nbconvert_exporter": "python",
   "pygments_lexer": "ipython3",
   "version": "3.9.15"
  }
 },
 "nbformat": 4,
 "nbformat_minor": 5
}
